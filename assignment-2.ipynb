{
 "cells": [
  {
   "cell_type": "markdown",
   "id": "2c6e0531-3c1a-4503-a340-1a5388a4e259",
   "metadata": {},
   "source": [
    "### 1 Print the following pattern. Write a program to use for loop to print the following reverse number pattern."
   ]
  },
  {
   "cell_type": "code",
   "execution_count": null,
   "id": "c6931547-aac7-4f37-b18b-03042f9300bc",
   "metadata": {},
   "outputs": [],
   "source": [
    "def print_pattern(rows):\n",
    "    # First half of the pattern\n",
    "    for i in range(1, rows + 1):\n",
    "        for j in range(1, i + 1):\n",
    "            print(\"*\", end=\" \")\n",
    "        print()\n",
    "    \n",
    "    # Second half of the pattern\n",
    "    for i in range(rows - 1, 0, -1):\n",
    "        for j in range(1, i + 1):\n",
    "            print(\"*\", end=\" \")\n",
    "        print()\n",
    "\n",
    "# Number of rows in the pattern (adjust this value to change the size of the pattern)\n",
    "rows = 5\n",
    "print_pattern(rows"
   ]
  },
  {
   "cell_type": "markdown",
   "id": "7b8308d9-9e19-4ef5-9215-3aa52e7e673a",
   "metadata": {},
   "source": [
    "### 2Print the following pattern.\n",
    "* \n",
    "* * \n",
    "* * * \n",
    "* * * * \n",
    "* * * * * \n",
    "* * * * \n",
    "* * * \n",
    "* * \n",
    "*"
   ]
  },
  {
   "cell_type": "markdown",
   "id": "849a8026-f3f3-4796-9391-2fb741b6d9ef",
   "metadata": {},
   "source": [
    "### 2Print the following pattern.\n",
    "* \n",
    "* * \n",
    "* * * \n",
    "* * * * \n",
    "* * * * * \n",
    "* * * * \n",
    "* * * \n",
    "* * \n",
    "*"
   ]
  },
  {
   "cell_type": "code",
   "execution_count": 3,
   "id": "f4123874-06d3-4cd9-934c-f82aacaf5c2a",
   "metadata": {},
   "outputs": [
    {
     "name": "stdout",
     "output_type": "stream",
     "text": [
      "* \n",
      "* * \n",
      "* * * \n",
      "* * * * \n",
      "* * * * * \n",
      "* * * * \n",
      "* * * \n",
      "* * \n",
      "* \n"
     ]
    }
   ],
   "source": [
    "def print_pattern(rows):\n",
    "    # First half of the pattern\n",
    "    for i in range(1, rows + 1):\n",
    "        for j in range(1, i + 1):\n",
    "            print(\"*\", end=\" \")\n",
    "        print()\n",
    "    \n",
    "    # Second half of the pattern\n",
    "    for i in range(rows - 1, 0, -1):\n",
    "        for j in range(1, i + 1):\n",
    "            print(\"*\", end=\" \")\n",
    "        print()\n",
    "\n",
    "# Number of rows in the pattern (adjust this value to change the size of the pattern)\n",
    "rows = 5\n",
    "print_pattern(rows)"
   ]
  },
  {
   "cell_type": "markdown",
   "id": "1839ddd7-f3b5-4ba6-9bce-68e2c7726403",
   "metadata": {},
   "source": [
    "### 3:Write a program to pring the following pattern\n",
    "    *\n",
    "  * * *\n",
    "* * * * *\n",
    "*"
   ]
  },
  {
   "cell_type": "code",
   "execution_count": 4,
   "id": "8371353f-ff6d-45ff-928e-bf09bd9cfed9",
   "metadata": {},
   "outputs": [
    {
     "name": "stdout",
     "output_type": "stream",
     "text": [
      "    * \n",
      "  * * * \n",
      "* * * * * \n"
     ]
    }
   ],
   "source": [
    "def print_pattern():\n",
    "    rows = 3  # Number of rows in the pattern\n",
    "    \n",
    "    # Iterate through each row\n",
    "    for i in range(rows):\n",
    "        # Print spaces before the stars\n",
    "        for j in range(rows - i - 1):\n",
    "            print(\" \", end=\" \")\n",
    "        \n",
    "        # Print stars\n",
    "        for k in range(2*i + 1):\n",
    "            print(\"*\", end=\" \")\n",
    "        \n",
    "        # Move to the next line after each row is printed\n",
    "        print()\n",
    "  # call the function to print the pattern \n",
    "print_pattern()"
   ]
  },
  {
   "cell_type": "markdown",
   "id": "c05a234e-cb3f-42f1-bb09-b9763b8e4598",
   "metadata": {},
   "source": [
    "### 4:Write a program to print the following pattern\n",
    "1\n",
    "\n",
    "2 1\n",
    "\n",
    "3 2 1\n",
    "\n",
    "4 3 2 1\n",
    "\n",
    "5 4 3 2 1"
   ]
  },
  {
   "cell_type": "code",
   "execution_count": 5,
   "id": "21e32e01-0a56-44e1-95f2-84f5029d3e08",
   "metadata": {},
   "outputs": [
    {
     "name": "stdout",
     "output_type": "stream",
     "text": [
      "Pattern:\n",
      "2 1 \n",
      "3 2 1 \n",
      "4 3 2 1 \n",
      "5 4 3 2 1 \n"
     ]
    }
   ],
   "source": [
    "def print_pattern(rows):\n",
    "    for i in range(2, rows + 2):\n",
    "        # Print numbers in descending order from i to 1\n",
    "        for j in range(i, 0, -1):\n",
    "            print(j, end=' ')\n",
    "        print()  # Move to the next line after each row\n",
    "\n",
    "# Number of rows in the pattern\n",
    "rows = 4\n",
    "\n",
    "print(\"Pattern:\")\n",
    "print_pattern(rows)"
   ]
  },
  {
   "cell_type": "markdown",
   "id": "529c6e9b-c99e-4b7a-b04b-719af687b911",
   "metadata": {},
   "source": [
    "### 5: Write a Python Program to Find the Sum of the Series till the nth term:\n",
    "1 + x^2/2 + x^3/3 + … x^n/n\n",
    "n will be provided by the user"
   ]
  },
  {
   "cell_type": "code",
   "execution_count": 7,
   "id": "d54b7fe5-3f34-46f1-8270-eb862380aba4",
   "metadata": {},
   "outputs": [
    {
     "name": "stdin",
     "output_type": "stream",
     "text": [
      "Enter the value of x:  1\n",
      "Enter the value of n:  2\n"
     ]
    },
    {
     "name": "stdout",
     "output_type": "stream",
     "text": [
      "The sum of the series up to 2 terms is: 1.5\n"
     ]
    }
   ],
   "source": [
    "def calculate_series_sum(x, n):\n",
    "    series_sum = 1  # Initialize sum with the first term of the series\n",
    "    \n",
    "    # Calculate each subsequent term and add to the sum\n",
    "    for i in range(2, n+1):\n",
    "        term = (x ** i) / i\n",
    "        series_sum += term\n",
    "    \n",
    "    return series_sum\n",
    "\n",
    "# Input from user\n",
    "x = float(input(\"Enter the value of x: \"))\n",
    "n = int(input(\"Enter the value of n: \"))\n",
    "\n",
    "# Calculate and print the sum of the series\n",
    "result = calculate_series_sum(x, n)\n",
    "print(f\"The sum of the series up to {n} terms is: {result}\")"
   ]
  },
  {
   "cell_type": "code",
   "execution_count": null,
   "id": "68eadcff-14ea-4add-8cda-8ea40d32a04a",
   "metadata": {},
   "outputs": [],
   "source": [
    "6: The natural logarithm can be approximated by the following series.\n",
    "temp.jpg"
   ]
  },
  {
   "cell_type": "code",
   "execution_count": 8,
   "id": "20313d11-2abb-496b-8ab6-24e447d02ab0",
   "metadata": {},
   "outputs": [
    {
     "name": "stdin",
     "output_type": "stream",
     "text": [
      "Enter the value of x:  10\n"
     ]
    },
    {
     "name": "stdout",
     "output_type": "stream",
     "text": [
      "The sum of the first seven terms of the series is: 1.6302490453125\n"
     ]
    }
   ],
   "source": [
    "def calculate_ln_approx(x):\n",
    "    # Calculate the initial term (x - 1) / x\n",
    "    term = (x - 1) / x\n",
    "    series_sum = term\n",
    "    \n",
    "    # Calculate and add the next six terms\n",
    "    for n in range(2, 8):\n",
    "        term = (0.5 * (term * (x - 1) / x))\n",
    "        series_sum += term\n",
    "        \n",
    "    return series_sum\n",
    "\n",
    "# Input the value of x from the keyboard\n",
    "x = float(input(\"Enter the value of x: \"))\n",
    "\n",
    "# Calculate the sum of the first seven terms of the series\n",
    "ln_approx = calculate_ln_approx(x)\n",
    "\n",
    "# Print the result\n",
    "print(f\"The sum of the first seven terms of the series is: {ln_approx}\")"
   ]
  },
  {
   "cell_type": "markdown",
   "id": "6a9bbf78-baf8-4a95-8977-d469cf8794a5",
   "metadata": {},
   "source": [
    "### 7 - Find the sum of the series upto n terms.\n",
    "Write a program to calculate the sum of series up to n term. For example, if n =5 the series will become 2 + 22 + 222 + 2222 + 22222 = 24690. Take the user input and then calculate. And the output style should match which is given in the example.\n",
    "\n",
    "Example 1:\n",
    "\n",
    "Input:\n",
    "\n",
    "5"
   ]
  },
  {
   "cell_type": "code",
   "execution_count": 9,
   "id": "0d531f28-29ea-47ee-96d5-f939ed584b4e",
   "metadata": {},
   "outputs": [
    {
     "name": "stdin",
     "output_type": "stream",
     "text": [
      "Enter the number of terms:  5\n"
     ]
    },
    {
     "name": "stdout",
     "output_type": "stream",
     "text": [
      "2+22+222+2222+22222\n",
      "Sum of above series is: 24690\n"
     ]
    }
   ],
   "source": [
    "def calculate_series_sum(n):\n",
    "    terms = []\n",
    "    current_term = 0\n",
    "    \n",
    "    for i in range(1, n + 1):\n",
    "        current_term = current_term * 10 + 2\n",
    "        terms.append(current_term)\n",
    "    \n",
    "    series_sum = sum(terms)\n",
    "    \n",
    "    return terms, series_sum\n",
    "\n",
    "# Input the value of n from the keyboard\n",
    "n = int(input(\"Enter the number of terms: \"))\n",
    "\n",
    "# Calculate the series and its sum\n",
    "terms, series_sum = calculate_series_sum(n)\n",
    "\n",
    "# Print the terms in the specified format\n",
    "print('+'.join(map(str, terms)))\n",
    "print(f\"Sum of above series is: {series_sum}\")"
   ]
  },
  {
   "cell_type": "markdown",
   "id": "0c49e887-2e2f-45c9-833a-f52fd99d76c4",
   "metadata": {},
   "source": [
    "### 8.Write a program to print all the unique combinations of 1,2,3 and 4"
   ]
  },
  {
   "cell_type": "code",
   "execution_count": 13,
   "id": "323642a1-390e-451a-844b-025c83a69158",
   "metadata": {},
   "outputs": [
    {
     "name": "stdout",
     "output_type": "stream",
     "text": [
      "p r e m\n",
      "p r e m\n",
      "p r e m\n",
      "p r e m\n",
      "p r e m\n",
      "p r e m\n",
      "p r e m\n",
      "p r e m\n",
      "p r e m\n",
      "p r e m\n",
      "p r e m\n",
      "p r e m\n",
      "p r e m\n",
      "p r e m\n",
      "p r e m\n",
      "p r e m\n",
      "p r e m\n",
      "p r e m\n",
      "p r e m\n",
      "p r e m\n",
      "p r e m\n",
      "p r e m\n",
      "p r e m\n",
      "p r e m\n"
     ]
    }
   ],
   "source": [
    "from itertools import permutations\n",
    "\n",
    "# Define the list of numbers\n",
    "numbers = [1, 2, 3, 4]\n",
    "\n",
    "# Generate all unique permutations of the list\n",
    "all_permutations = permutations(numbers)\n",
    "\n",
    "# Print each permutation\n",
    "for perm in all_permutations:\n",
    "    print(' '.join(map(str,'prem')))"
   ]
  },
  {
   "cell_type": "markdown",
   "id": "5e9c4cb7-ed3c-4c44-a24c-30dfd65de930",
   "metadata": {},
   "source": [
    "### 9: Write a program that will take a decimal number as input and prints out the binary equivalent of the number"
   ]
  },
  {
   "cell_type": "code",
   "execution_count": 15,
   "id": "7ef9134a-824f-4cb5-9e91-42f2f49028e3",
   "metadata": {},
   "outputs": [
    {
     "name": "stdin",
     "output_type": "stream",
     "text": [
      "Enter a decimal number:  10\n"
     ]
    },
    {
     "name": "stdout",
     "output_type": "stream",
     "text": [
      "The binary equivalent of 10 is: 1010\n"
     ]
    }
   ],
   "source": [
    "def decimal_to_binary(n):\n",
    "    if n == 0:\n",
    "        return \"0\"\n",
    "    binary_num = \"\"\n",
    "    while n > 0:\n",
    "        binary_num = str(n % 2) + binary_num\n",
    "        n = n // 2\n",
    "    return binary_num\n",
    "\n",
    "# Input the decimal number from the keyboard\n",
    "decimal_number = int(input(\"Enter a decimal number: \"))\n",
    "\n",
    "# Convert to binary and print the result\n",
    "binary_equivalent = decimal_to_binary(decimal_number)\n",
    "print(f\"The binary equivalent of {decimal_number} is: {binary_equivalent}\")"
   ]
  },
  {
   "cell_type": "markdown",
   "id": "6aeefa3a-bf34-40a1-b0fe-4b13557a9c7d",
   "metadata": {},
   "source": [
    "### 10: Write a program that will take 2 numbers as input and prints the LCM and HCF of those 2 numbers"
   ]
  },
  {
   "cell_type": "code",
   "execution_count": 16,
   "id": "cefe3fc9-c959-430a-a5bf-585bff871c2e",
   "metadata": {},
   "outputs": [
    {
     "name": "stdin",
     "output_type": "stream",
     "text": [
      "Enter the first number:  5\n",
      "Enter the second number:  7\n"
     ]
    },
    {
     "name": "stdout",
     "output_type": "stream",
     "text": [
      "The HCF (GCD) of 5 and 7 is: 1\n",
      "The LCM of 5 and 7 is: 35\n"
     ]
    }
   ],
   "source": [
    "import math\n",
    "\n",
    "def calculate_hcf(x, y):\n",
    "    return math.gcd(x, y)\n",
    "\n",
    "def calculate_lcm(x, y):\n",
    "    return abs(x * y) // calculate_hcf(x, y)\n",
    "\n",
    "# Input two numbers from the keyboard\n",
    "num1 = int(input(\"Enter the first number: \"))\n",
    "num2 = int(input(\"Enter the second number: \"))\n",
    "\n",
    "# Calculate HCF (GCD) and LCM\n",
    "hcf = calculate_hcf(num1, num2)\n",
    "lcm = calculate_lcm(num1, num2)\n",
    "\n",
    "# Print the results\n",
    "print(f\"The HCF (GCD) of {num1} and {num2} is: {hcf}\")\n",
    "print(f\"The LCM of {num1} and {num2} is: {lcm}\")"
   ]
  },
  {
   "cell_type": "markdown",
   "id": "65c4a24d-4a90-47e2-a26e-eea3bbbfd5a2",
   "metadata": {},
   "source": [
    "### 11: Create Short Form from initial character\n",
    "Given a string create short form ofthe string from Initial character. Short form should be capitalised.\n",
    "\n",
    "Example:\n",
    "\n",
    "Input:\n",
    "\n",
    "Data science mentorship program"
   ]
  },
  {
   "cell_type": "code",
   "execution_count": 17,
   "id": "9c7cbd39-e244-4556-b56e-db2eb3c4579b",
   "metadata": {},
   "outputs": [
    {
     "name": "stdin",
     "output_type": "stream",
     "text": [
      "Enter the phrase:  10\n"
     ]
    },
    {
     "name": "stdout",
     "output_type": "stream",
     "text": [
      "The short form of the input is: 1\n"
     ]
    }
   ],
   "source": [
    "def create_short_form(phrase):\n",
    "    # Split the phrase into words\n",
    "    words = phrase.split()\n",
    "    \n",
    "    # Extract the first character of each word and capitalize it\n",
    "    short_form = ''.join(word[0].upper() for word in words)\n",
    "    \n",
    "    return short_form\n",
    "\n",
    "# Input the phrase from the keyboard\n",
    "input_phrase = input(\"Enter the phrase: \")\n",
    "\n",
    "# Create the short form\n",
    "short_form = create_short_form(input_phrase)\n",
    "\n",
    "# Print the result\n",
    "print(f\"The short form of the input is: {short_form}\")"
   ]
  },
  {
   "cell_type": "markdown",
   "id": "67684417-e899-4a80-a913-e181f4a57efa",
   "metadata": {},
   "source": [
    "### 12: Append second string in the middle of first string\n",
    "Input:\n",
    "\n",
    "campusx\n",
    "data"
   ]
  },
  {
   "cell_type": "code",
   "execution_count": 18,
   "id": "02ae4052-5143-4044-8fb6-6c1fdadab331",
   "metadata": {},
   "outputs": [
    {
     "name": "stdin",
     "output_type": "stream",
     "text": [
      "Enter the first string:  10\n",
      "Enter the second string:  20\n"
     ]
    },
    {
     "name": "stdout",
     "output_type": "stream",
     "text": [
      "The result of appending the second string in the middle of the first string is: 1200\n"
     ]
    }
   ],
   "source": [
    "def append_in_middle(first, second):\n",
    "    middle_index = len(first) // 2\n",
    "    result = first[:middle_index] + second + first[middle_index:]\n",
    "    return result\n",
    "\n",
    "# Input the two strings from the keyboard\n",
    "first_string = input(\"Enter the first string: \")\n",
    "second_string = input(\"Enter the second string: \")\n",
    "\n",
    "# Append the second string in the middle of the first string\n",
    "result_string = append_in_middle(first_string, second_string)\n",
    "\n",
    "# Print the result\n",
    "print(f\"The result of appending the second string in the middle of the first string is: {result_string}\")"
   ]
  },
  {
   "cell_type": "markdown",
   "id": "c7f5caca-0d67-4a5e-baad-bed0f13c3606",
   "metadata": {},
   "source": [
    "### 13:Given string contains a combination of the lower and upper case letters. Write a program to arrange the\n",
    "characters of a string so that all lowercase letters should come first.3\n",
    "Given:\n",
    "\n",
    "str1 = PyNaTive\n",
    "\n",
    "Expected Output:\n",
    "\n",
    "yaivePNT"
   ]
  },
  {
   "cell_type": "code",
   "execution_count": 19,
   "id": "faf48456-e18e-4e07-a40c-29eef12751b7",
   "metadata": {},
   "outputs": [
    {
     "name": "stdout",
     "output_type": "stream",
     "text": [
      "Arranged string: yaivePNT\n"
     ]
    }
   ],
   "source": [
    "def arrange_string(input_str):\n",
    "    lower_case = ''.join([char for char in input_str if char.islower()])\n",
    "    upper_case = ''.join([char for char in input_str if char.isupper()])\n",
    "    return lower_case + upper_case\n",
    "\n",
    "# Given string\n",
    "str1 = \"PyNaTive\"\n",
    "\n",
    "# Arrange the string\n",
    "result = arrange_string(str1)\n",
    "\n",
    "# Print the result\n",
    "print(f\"Arranged string: {result}\")"
   ]
  },
  {
   "cell_type": "markdown",
   "id": "0aae5a1c-aef3-40ad-9ec8-85977cfffd7f",
   "metadata": {},
   "source": [
    "### 14:Take a alphanumeric string input and print the sum and average of the digits that appear in the string\n",
    "ignoring all other characters.\n",
    "Input:\n",
    "\n",
    "hel123O4every093"
   ]
  },
  {
   "cell_type": "code",
   "execution_count": 20,
   "id": "b8fe3ebb-da19-49b4-b4e7-58807882add6",
   "metadata": {},
   "outputs": [
    {
     "name": "stdin",
     "output_type": "stream",
     "text": [
      "Enter the alphanumeric string:  10\n"
     ]
    },
    {
     "name": "stdout",
     "output_type": "stream",
     "text": [
      "Sum: 1\n",
      "Avg: 0.50\n"
     ]
    }
   ],
   "source": [
    "def calculate_sum_and_average(input_str):\n",
    "    digits = [int(char) for char in input_str if char.isdigit()]\n",
    "    if not digits:\n",
    "        return 0, 0.0\n",
    "    \n",
    "    total_sum = sum(digits)\n",
    "    average = total_sum / len(digits)\n",
    "    return total_sum, average\n",
    "\n",
    "# Input the alphanumeric string from the keyboard\n",
    "input_string = input(\"Enter the alphanumeric string: \")\n",
    "\n",
    "# Calculate sum and average of digits\n",
    "total_sum, average = calculate_sum_and_average(input_string)\n",
    "\n",
    "# Print the results\n",
    "print(f\"Sum: {total_sum}\")\n",
    "print(f\"Avg: {average:.2f}\")"
   ]
  },
  {
   "cell_type": "markdown",
   "id": "60a3ee4e-a22e-4bf4-abfb-55ebadc0fd75",
   "metadata": {},
   "source": [
    "### 15: Removal of all characters from a string except integers\n",
    "Given:\n",
    "\n",
    "str1 = 'I am 25 years and 10 months old"
   ]
  },
  {
   "cell_type": "code",
   "execution_count": 22,
   "id": "8cbffd13-3e00-4dc9-b8c1-adfd34005bb2",
   "metadata": {},
   "outputs": [
    {
     "name": "stdout",
     "output_type": "stream",
     "text": [
      "Expected Output: 2510\n"
     ]
    }
   ],
   "source": [
    "import re\n",
    "\n",
    "def extract_digits(input_str):\n",
    "    digits = re.findall(r'\\d+', input_str)\n",
    "    return ''.join(digits)\n",
    "\n",
    "# Given string\n",
    "str1 = 'I am 25 years and 10 months old'\n",
    "\n",
    "# Extract digits\n",
    "result = extract_digits(str1)\n",
    "\n",
    "# Print the result\n",
    "print(\"Expected Output:\",result)"
   ]
  },
  {
   "cell_type": "markdown",
   "id": "ac683e77-d5f7-4f73-942d-c7c4382fa7b2",
   "metadata": {},
   "source": [
    "### 16: Check whether the string is Symmetrical.\n",
    "Statement: Given a string. the task is to check if the string is symmetrical or not. A string is said to be symmetrical if both the halves of the string are the same.\n",
    "\n",
    "Example 1:\n",
    "\n",
    "Input\n",
    "\n",
    "khokho"
   ]
  },
  {
   "cell_type": "code",
   "execution_count": 26,
   "id": "244c4c73-0ea5-4991-98ed-817d5e8df057",
   "metadata": {},
   "outputs": [
    {
     "name": "stdin",
     "output_type": "stream",
     "text": [
      "Enter a string:  2\n"
     ]
    },
    {
     "name": "stdout",
     "output_type": "stream",
     "text": [
      "The entered string is not symmetrical\n"
     ]
    }
   ],
   "source": [
    "def is_symmetrical(input_str):\n",
    "    # Get the length of the string\n",
    "    length = len(input_str)\n",
    "    \n",
    "    # Compare the first half with the reversed second half\n",
    "    return input_str[:length//2] == input_str[-(length//2):][::-1]\n",
    "\n",
    "# Input the string from the keyboard\n",
    "input_string = input(\"Enter a string: \")\n",
    "\n",
    "# Check if the string is symmetrical\n",
    "if is_symmetrical(input_string):\n",
    "    print(\"The entered string is symmetrical\")\n",
    "else:\n",
    "    print(\"The entered string is not symmetrical\")"
   ]
  },
  {
   "cell_type": "markdown",
   "id": "ae1cef8a-7d94-496b-8296-df5ecc04a3cf",
   "metadata": {},
   "source": [
    "### 17: Reverse words in a given String\n",
    "Statement: We are given a string and we need to reverse words of a given string.\n",
    "\n",
    "Example 1:\n",
    "\n",
    "Input:\n",
    "\n",
    "geeks quiz practice code"
   ]
  },
  {
   "cell_type": "code",
   "execution_count": 24,
   "id": "4ed7f0d3-0918-4044-8a9f-e825b05cce88",
   "metadata": {},
   "outputs": [
    {
     "name": "stdin",
     "output_type": "stream",
     "text": [
      "Enter a string:  5\n"
     ]
    },
    {
     "name": "stdout",
     "output_type": "stream",
     "text": [
      "Output:\n",
      "5\n"
     ]
    }
   ],
   "source": [
    "def reverse_words(input_str):\n",
    "    # Split the string into words\n",
    "    words = input_str.split()\n",
    "    \n",
    "    # Reverse the order of the words\n",
    "    reversed_words = words[::-1]\n",
    "    \n",
    "    # Join the reversed words back into a string\n",
    "    reversed_string = ' '.join(reversed_words)\n",
    "    \n",
    "    return reversed_string\n",
    "\n",
    "# Input the string from the keyboard\n",
    "input_string = input(\"Enter a string: \")\n",
    "\n",
    "# Reverse the words in the string\n",
    "reversed_string = reverse_words(input_string)\n",
    "\n",
    "# Print the result\n",
    "print(\"Output:\")\n",
    "print(reversed_string)"
   ]
  },
  {
   "cell_type": "markdown",
   "id": "c799d23f-9ecb-402f-b50a-9fb8967b5d19",
   "metadata": {},
   "source": [
    "#### 18: Find uncommon words from two Strings.\n",
    "Statement: Given two sentences as strings A and B. The task is to return a list of all uncommon words. A word is uncommon if it appears exactly once in any one of the sentences, and does not appear in the other sentence. Note: A sentence is a string of space-separated words. Each word consists only of lowercase letters.\n",
    "\n",
    "Example 1:\n",
    "\n",
    "Input:\n",
    "\n",
    "A = \"apple banana mango\" \n",
    "B = \"banana fruits mango\""
   ]
  },
  {
   "cell_type": "code",
   "execution_count": 27,
   "id": "0582ee87-59d7-48f3-8fcf-d23fc96fc794",
   "metadata": {},
   "outputs": [
    {
     "name": "stdin",
     "output_type": "stream",
     "text": [
      "Enter the first sentence:  10\n",
      "Enter the second sentence:  20\n"
     ]
    },
    {
     "name": "stdout",
     "output_type": "stream",
     "text": [
      "Output:\n",
      "['10', '20']\n"
     ]
    }
   ],
   "source": [
    "def find_uncommon_words(sentence1, sentence2):\n",
    "    words1 = sentence1.split()\n",
    "    words2 = sentence2.split()\n",
    "    \n",
    "    frequency = {}\n",
    "    \n",
    "    # Count frequency of words in first sentence\n",
    "    for word in words1:\n",
    "        frequency[word] = frequency.get(word, 0) + 1\n",
    "    \n",
    "    # Count frequency of words in second sentence\n",
    "    for word in words2:\n",
    "        frequency[word] = frequency.get(word, 0) + 1\n",
    "    \n",
    "    # Select words with frequency of 1\n",
    "    uncommon_words = [word for word, freq in frequency.items() if freq == 1]\n",
    "    \n",
    "    return uncommon_words\n",
    "\n",
    "# Input sentences from the keyboard\n",
    "sentence1 = input(\"Enter the first sentence: \")\n",
    "sentence2 = input(\"Enter the second sentence: \")\n",
    "\n",
    "# Find uncommon words\n",
    "uncommon = find_uncommon_words(sentence1, sentence2)\n",
    "\n",
    "# Print the result\n",
    "print(\"Output:\")\n",
    "print(uncommon)"
   ]
  },
  {
   "cell_type": "markdown",
   "id": "588645ca-ef4e-4566-af13-06976a678935",
   "metadata": {},
   "source": [
    "### 19: Word location in String.\n",
    "Statement: Find a location of a word in a given sentence.\n",
    "\n",
    "Example 1:\n",
    "\n",
    "Input:\n",
    "\n",
    "Sentence: We can learn data science through campusx mentorship program.\n",
    "\n",
    "word: campusx"
   ]
  },
  {
   "cell_type": "code",
   "execution_count": 29,
   "id": "ff6622ff-6273-4002-9e14-daef41fc9b45",
   "metadata": {},
   "outputs": [
    {
     "name": "stdin",
     "output_type": "stream",
     "text": [
      "Enter the sentence:  word\n",
      "Enter the word to find:  sentence\n"
     ]
    },
    {
     "name": "stdout",
     "output_type": "stream",
     "text": [
      "The word is not found in the sentence.\n"
     ]
    }
   ],
   "source": [
    "def find_word_location(sentence, word):\n",
    "    words = sentence.split()\n",
    "    location = None\n",
    "    \n",
    "    for i, w in enumerate(words, 1):\n",
    "        if w == word:\n",
    "            location = i\n",
    "            break\n",
    "    \n",
    "    return location\n",
    "\n",
    "# Input the sentence and word from the keyboard\n",
    "sentence = input(\"Enter the sentence: \")\n",
    "word = input(\"Enter the word to find: \")\n",
    "\n",
    "# Find the location of the word\n",
    "location = find_word_location(sentence, word)\n",
    "\n",
    "# Print the result\n",
    "if location is not None:\n",
    "    print(f\"Location of the word is: {location}\")\n",
    "else:\n",
    "    print(\"The word is not found in the sentence.\")"
   ]
  },
  {
   "cell_type": "markdown",
   "id": "f28c64ec-e63e-4977-af4b-51034056f7a4",
   "metadata": {},
   "source": [
    "### 20: Write a program that can remove all the duplicate characters from a string. User will provide the input."
   ]
  },
  {
   "cell_type": "code",
   "execution_count": 31,
   "id": "efc63fca-7d8d-4489-89e9-a7d76159812d",
   "metadata": {},
   "outputs": [
    {
     "name": "stdin",
     "output_type": "stream",
     "text": [
      "Enter a string:  10\n"
     ]
    },
    {
     "name": "stdout",
     "output_type": "stream",
     "text": [
      "String after removing duplicates: 10\n"
     ]
    }
   ],
   "source": [
    "def remove_duplicates(input_str):\n",
    "    # Create an empty set to store unique characters\n",
    "    unique_chars = set()\n",
    "    \n",
    "    # Initialize an empty string to store the result\n",
    "    result = \"\"\n",
    "    \n",
    "    # Iterate over each character in the input string\n",
    "    for char in input_str:\n",
    "        # If the character is not in the unique_chars set, add it to the result string and the set\n",
    "        if char not in unique_chars:\n",
    "            result += char\n",
    "            unique_chars.add(char)\n",
    "    \n",
    "    return result\n",
    "\n",
    "# Input the string from the keyboard\n",
    "input_string = input(\"Enter a string: \")\n",
    "\n",
    "# Remove duplicates from the string\n",
    "result_string = remove_duplicates(input_string)\n",
    "\n",
    "# Print the result\n",
    "print(\"String after removing duplicates:\",result_string)"
   ]
  },
  {
   "cell_type": "code",
   "execution_count": null,
   "id": "6813ba32-9594-4fc1-bfaf-192d0072d119",
   "metadata": {},
   "outputs": [],
   "source": []
  }
 ],
 "metadata": {
  "kernelspec": {
   "display_name": "Python 3 (ipykernel)",
   "language": "python",
   "name": "python3"
  },
  "language_info": {
   "codemirror_mode": {
    "name": "ipython",
    "version": 3
   },
   "file_extension": ".py",
   "mimetype": "text/x-python",
   "name": "python",
   "nbconvert_exporter": "python",
   "pygments_lexer": "ipython3",
   "version": "3.11.7"
  }
 },
 "nbformat": 4,
 "nbformat_minor": 5
}
