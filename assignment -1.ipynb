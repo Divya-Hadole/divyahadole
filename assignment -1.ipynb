{
 "cells": [
  {
   "cell_type": "markdown",
   "id": "725bb676-e8f9-437c-a36c-eb4f21995aa5",
   "metadata": {},
   "source": [
    "### Q 1 \n",
    "# Create 2 lists from a given list where \n",
    "# 1st list will contain all the odd numbers from the original list and\n",
    "# the 2nd one will contain all the even numbers\n",
    "L = [1,2,3,4,5,6]"
   ]
  },
  {
   "cell_type": "code",
   "execution_count": 2,
   "id": "e9317e25-541b-4a8d-a9f3-e47adfc9af37",
   "metadata": {},
   "outputs": [
    {
     "name": "stdout",
     "output_type": "stream",
     "text": [
      "Original list: [1, 2, 3, 4, 5, 6]\n",
      "List of odd numbers: [1, 3, 5]\n",
      "List of even numbers: [2, 4, 6]\n"
     ]
    }
   ],
   "source": [
    "L = [1, 2, 3, 4, 5, 6]\n",
    "\n",
    "# Initialize empty lists to store odd and even numbers\n",
    "odd_numbers = []\n",
    "even_numbers = []\n",
    "\n",
    "# Iterate through the elements of the original list\n",
    "for num in L:\n",
    "    if num % 2 == 0:  # Check if the number is even\n",
    "        even_numbers.append(num)\n",
    "    else:\n",
    "        odd_numbers.append(num)\n",
    "\n",
    "print(\"Original list:\", L)\n",
    "print(\"List of odd numbers:\", odd_numbers)\n",
    "print(\"List of even numbers:\",even_numbers)"
   ]
  },
  {
   "cell_type": "markdown",
   "id": "ef1235d4-da96-41ce-88e5-91e2700357e3",
   "metadata": {},
   "source": [
    "### Q 2\n",
    "# How to take list as input from user"
   ]
  },
  {
   "cell_type": "code",
   "execution_count": 3,
   "id": "92efef2b-4358-4a25-9f8f-a13da78c32b2",
   "metadata": {},
   "outputs": [
    {
     "name": "stdin",
     "output_type": "stream",
     "text": [
      " 5\n"
     ]
    },
    {
     "name": "stdout",
     "output_type": "stream",
     "text": [
      "['5']\n"
     ]
    }
   ],
   "source": [
    "x=input().split(',')\n",
    "print(x)"
   ]
  },
  {
   "cell_type": "markdown",
   "id": "98bfeb81-493c-4676-b39c-ea06257ff6cc",
   "metadata": {},
   "source": [
    "Q 3 \n",
    "# Write a program to merge 2 list without using the + operator\n",
    "L1 = [1,2,3,4]\n",
    "L2 = [5,6,7,8]"
   ]
  },
  {
   "cell_type": "code",
   "execution_count": 5,
   "id": "0f199c9d-0e2b-4166-9cdc-82f5298c546d",
   "metadata": {},
   "outputs": [
    {
     "name": "stdout",
     "output_type": "stream",
     "text": [
      "Original list: [1, 2, 300, 4, 5, 300]\n",
      "Modified list: [1, 2, 300, 4, 5, 300]\n"
     ]
    }
   ],
   "source": [
    "def replace_item(li, old_item, new_item):\n",
    "    for i in range(len(li)):\n",
    "        if li[i] == old_item:\n",
    "            li[i] = new_item\n",
    "    return li\n",
    "\n",
    "# Example usage:\n",
    "original_list = [1, 2, 3, 4, 5, 3]\n",
    "old_value = 3\n",
    "new_value = 300\n",
    "\n",
    "# Call the function to replace items in the list\n",
    "modified_list = replace_item(original_list, old_value, new_value)\n",
    "\n",
    "# Print the original and modified lists\n",
    "print(\"Original list:\", original_list)\n",
    "print(\"Modified list:\",modified_list)"
   ]
  },
  {
   "cell_type": "markdown",
   "id": "c8e11b6e-1f14-44ec-b9a9-499872de6f82",
   "metadata": {},
   "source": [
    "Q 4\n",
    "# Write a program to replace an item with a different item if found in the list \n",
    "L = [1,2,3,4,5,3]\n",
    "# replace 3 with 300"
   ]
  },
  {
   "cell_type": "code",
   "execution_count": 9,
   "id": "6f915773-bff0-48fc-bde5-53c699f2e5a4",
   "metadata": {},
   "outputs": [
    {
     "ename": "SyntaxError",
     "evalue": "invalid syntax (4179093847.py, line 11)",
     "output_type": "error",
     "traceback": [
      "\u001b[1;36m  Cell \u001b[1;32mIn[9], line 11\u001b[1;36m\u001b[0m\n\u001b[1;33m    replace item(original list,old value, new value)\u001b[0m\n\u001b[1;37m            ^\u001b[0m\n\u001b[1;31mSyntaxError\u001b[0m\u001b[1;31m:\u001b[0m invalid syntax\n"
     ]
    }
   ],
   "source": [
    "def replace_item(li, old_item, new_item):\n",
    "  for i in range(len(li)):\n",
    "    if li[i] == old_item:\n",
    "       li [i] = new_item\n",
    "    return li\n",
    "    #example usage:\n",
    "original_list = [1,2,3,4,5,3]\n",
    "old_value = 3\n",
    "new_value = 300\n",
    "modified list=[]\n",
    "replace item(original list,old value, new value)\n",
    "print(\"original list:\",original list)\n",
    "print(\"modified list:\",modified list)"
   ]
  },
  {
   "cell_type": "markdown",
   "id": "53b24d14-7b1c-4da8-b42b-42cc27c7b574",
   "metadata": {},
   "source": [
    "Q 5 \n",
    "# Write a program that can convert a 2D list to 1D list"
   ]
  },
  {
   "cell_type": "code",
   "execution_count": 11,
   "id": "5f82d276-ca3c-4f27-b706-c63a86d0cd41",
   "metadata": {},
   "outputs": [
    {
     "name": "stdout",
     "output_type": "stream",
     "text": [
      "Original 2D list: [[1, 2, 3], [4, 5], [6, 7, 8]]\n",
      "Flattened 1D list: [1, 2, 3, 4, 5, 6, 7, 8]\n"
     ]
    }
   ],
   "source": [
    "def flatten_2d_list(two_d_list):\n",
    "    # Initialize an empty list to store the flattened result\n",
    "    one_d_list = []\n",
    "\n",
    "    # Iterate over each sublist in the 2D list\n",
    "    for sublist in two_d_list:\n",
    "        # Extend the one_d_list with the elements of the current sublist\n",
    "        one_d_list.extend(sublist)\n",
    "\n",
    "    return one_d_list\n",
    "\n",
    "# Example 2D list\n",
    "two_d_list = [[1, 2, 3], [4, 5], [6, 7, 8]]\n",
    "\n",
    "# Convert the 2D list to a 1D list\n",
    "one_d_list = flatten_2d_list(two_d_list)\n",
    "\n",
    "# Print the result\n",
    "print(\"Original 2D list:\", two_d_list)\n",
    "print(\"Flattened 1D list:\",one_d_list)"
   ]
  },
  {
   "cell_type": "markdown",
   "id": "29ada7a7-9f07-4ea5-b16c-6613d52a1ff0",
   "metadata": {},
   "source": [
    "Q 6 \n",
    "# Write a program to remove duplicate items from a list\n",
    "\n",
    "L = [1,2,1,2,3,4,5,3,4]"
   ]
  },
  {
   "cell_type": "code",
   "execution_count": 13,
   "id": "34844c91-a874-4ac6-a689-f8b2b34a8ee4",
   "metadata": {},
   "outputs": [
    {
     "name": "stdout",
     "output_type": "stream",
     "text": [
      "Original list: [1, 2, 1, 2, 3, 4, 5, 3, 4]\n",
      "List after removing duplicates: [1, 2, 3, 4, 5]\n"
     ]
    }
   ],
   "source": [
    "L = [1, 2, 1, 2, 3, 4, 5, 3, 4]\n",
    "\n",
    "# Convert the list to a set to remove duplicates, then convert it back to a list\n",
    "unique_list = list(set(L))\n",
    "\n",
    "print(\"Original list:\", L)\n",
    "print(\"List after removing duplicates:\",unique_list)"
   ]
  },
  {
   "cell_type": "markdown",
   "id": "78146808-c251-4018-bbd4-5648314b4b0a",
   "metadata": {},
   "source": [
    "Q 7 \n",
    "# Write a program to check if a list is in ascending order or not"
   ]
  },
  {
   "cell_type": "code",
   "execution_count": 14,
   "id": "67a6dca8-5d33-4f7b-9510-ea514465bca1",
   "metadata": {},
   "outputs": [
    {
     "name": "stdout",
     "output_type": "stream",
     "text": [
      "Is list1 in ascending order? True\n",
      "Is list2 in ascending order? False\n"
     ]
    }
   ],
   "source": [
    "def is_ascending(lst):\n",
    "    # Iterate through the list from the first element to the second last element\n",
    "    for i in range(len(lst) - 1):\n",
    "        # If any element is greater than the next one, return False\n",
    "        if lst[i] > lst[i + 1]:\n",
    "            return False\n",
    "    # If no element violates the ascending order condition, return True\n",
    "    return True\n",
    "\n",
    "# Test the function\n",
    "list1 = [1, 2, 3, 4, 5]\n",
    "list2 = [1, 3, 2, 4, 5]\n",
    "\n",
    "print(\"Is list1 in ascending order?\", is_ascending(list1))\n",
    "print(\"Is list2 in ascending order?\", is_ascending(list2))"
   ]
  }
 ],
 "metadata": {
  "kernelspec": {
   "display_name": "Python 3 (ipykernel)",
   "language": "python",
   "name": "python3"
  },
  "language_info": {
   "codemirror_mode": {
    "name": "ipython",
    "version": 3
   },
   "file_extension": ".py",
   "mimetype": "text/x-python",
   "name": "python",
   "nbconvert_exporter": "python",
   "pygments_lexer": "ipython3",
   "version": "3.11.7"
  }
 },
 "nbformat": 4,
 "nbformat_minor": 5
}
